{
 "cells": [
  {
   "cell_type": "markdown",
   "id": "4abaad8a",
   "metadata": {},
   "source": [
    "# Análise Exploratia dos Dados\n",
    "Esta parte trabalho, consiste na utilização de técnicas estatísticas para exploração de dados, bem como de técnicas de visualização de dados, com a finalidade de extrair conhecimento do dataset gerado no trabalho anterior."
   ]
  },
  {
   "cell_type": "code",
   "execution_count": 1,
   "id": "979c36d4",
   "metadata": {},
   "outputs": [],
   "source": [
    "import pandas as pd\n",
    "import numpy as np\n",
    "import datetime\n",
    "import matplotlib.pyplot as plt\n",
    "from datetime import datetime"
   ]
  },
  {
   "cell_type": "code",
   "execution_count": 2,
   "id": "a78b1f4c",
   "metadata": {},
   "outputs": [],
   "source": [
    "df = pd.read_csv('csvfile_preprocessado.csv', usecols = ['ANO_BO', \n",
    "                                           'NUM_BO', \n",
    "                                           'DATAOCORRENCIA',\n",
    "                                           'HORAOCORRENCIA',\n",
    "                                           'PERIDOOCORRENCIA', \n",
    "                                           'BAIRRO', 'CIDADE', \n",
    "                                           'LOGRADOURO', \n",
    "                                           'DESCRICAOLOCAL', \n",
    "                                           'DESCR_TIPO_VEICULO', \n",
    "                                           'DELEGACIA_NOME',\n",
    "                                           'FLAGRANTE',   \n",
    "                                           ], \n",
    "    encoding='utf-8', \n",
    ")"
   ]
  },
  {
   "cell_type": "code",
   "execution_count": 3,
   "id": "b6f9dc99",
   "metadata": {},
   "outputs": [],
   "source": [
    "df['DATAOCORRENCIA'] = pd.to_datetime(df['DATAOCORRENCIA'], format= '%Y-%m-%d') #%d-%m-%Y')"
   ]
  },
  {
   "cell_type": "code",
   "execution_count": 4,
   "id": "d29e54b3",
   "metadata": {},
   "outputs": [
    {
     "name": "stdout",
     "output_type": "stream",
     "text": [
      "Quantidade de tuplas:  4277\n"
     ]
    }
   ],
   "source": [
    "print(\"Quantidade de tuplas: \", df.shape[0])"
   ]
  },
  {
   "cell_type": "code",
   "execution_count": 5,
   "id": "66a70ede",
   "metadata": {},
   "outputs": [],
   "source": [
    "#df['MES'] = df['DATAOCORRENCIA'].dt.strftime('%m')"
   ]
  },
  {
   "cell_type": "code",
   "execution_count": 6,
   "id": "a970a9c6",
   "metadata": {},
   "outputs": [],
   "source": [
    "df['MES'] = df['DATAOCORRENCIA'].apply(lambda x: int(str(x)[5:7]))"
   ]
  },
  {
   "cell_type": "code",
   "execution_count": 7,
   "id": "b9e00cb9",
   "metadata": {},
   "outputs": [
    {
     "name": "stdout",
     "output_type": "stream",
     "text": [
      "Média: 1.7533317746083703\n"
     ]
    }
   ],
   "source": [
    "print(\"Média:\", df['MES'].mean())"
   ]
  },
  {
   "cell_type": "code",
   "execution_count": 8,
   "id": "af27a43e",
   "metadata": {},
   "outputs": [
    {
     "data": {
      "text/html": [
       "<div>\n",
       "<style scoped>\n",
       "    .dataframe tbody tr th:only-of-type {\n",
       "        vertical-align: middle;\n",
       "    }\n",
       "\n",
       "    .dataframe tbody tr th {\n",
       "        vertical-align: top;\n",
       "    }\n",
       "\n",
       "    .dataframe thead th {\n",
       "        text-align: right;\n",
       "    }\n",
       "</style>\n",
       "<table border=\"1\" class=\"dataframe\">\n",
       "  <thead>\n",
       "    <tr style=\"text-align: right;\">\n",
       "      <th></th>\n",
       "      <th>ANO_BO</th>\n",
       "      <th>NUM_BO</th>\n",
       "      <th>DATAOCORRENCIA</th>\n",
       "      <th>HORAOCORRENCIA</th>\n",
       "      <th>PERIDOOCORRENCIA</th>\n",
       "      <th>FLAGRANTE</th>\n",
       "      <th>LOGRADOURO</th>\n",
       "      <th>BAIRRO</th>\n",
       "      <th>CIDADE</th>\n",
       "      <th>DESCRICAOLOCAL</th>\n",
       "      <th>DELEGACIA_NOME</th>\n",
       "      <th>DESCR_TIPO_VEICULO</th>\n",
       "      <th>MES</th>\n",
       "    </tr>\n",
       "  </thead>\n",
       "  <tbody>\n",
       "    <tr>\n",
       "      <th>0</th>\n",
       "      <td>2019</td>\n",
       "      <td>10019</td>\n",
       "      <td>2019-12-31</td>\n",
       "      <td>22:30:00</td>\n",
       "      <td>A NOITE</td>\n",
       "      <td>Não</td>\n",
       "      <td>AVENIDA RIACHO DOS MACHADOS</td>\n",
       "      <td>SAO MATEUS</td>\n",
       "      <td>S.PAULO</td>\n",
       "      <td>Via pública</td>\n",
       "      <td>69º D.P. TEOTONIO VILELA</td>\n",
       "      <td>AUTOMOVEL</td>\n",
       "      <td>12</td>\n",
       "    </tr>\n",
       "    <tr>\n",
       "      <th>1</th>\n",
       "      <td>2019</td>\n",
       "      <td>1624930</td>\n",
       "      <td>2019-12-31</td>\n",
       "      <td>21:23:00</td>\n",
       "      <td>A NOITE</td>\n",
       "      <td>Não</td>\n",
       "      <td>RUA CRISTÓVÃO MENDES</td>\n",
       "      <td>JARDIM SAO PAULO(ZONA LESTE)</td>\n",
       "      <td>S.PAULO</td>\n",
       "      <td>Via Pública</td>\n",
       "      <td>DELEGACIA ELETRONICA</td>\n",
       "      <td>AUTOMOVEL</td>\n",
       "      <td>12</td>\n",
       "    </tr>\n",
       "    <tr>\n",
       "      <th>2</th>\n",
       "      <td>2020</td>\n",
       "      <td>2</td>\n",
       "      <td>2019-12-31</td>\n",
       "      <td>22:00:00</td>\n",
       "      <td>A NOITE</td>\n",
       "      <td>Não</td>\n",
       "      <td>RUA FRANZ VONACH</td>\n",
       "      <td>JACANA</td>\n",
       "      <td>S.PAULO</td>\n",
       "      <td>Via Pública</td>\n",
       "      <td>DELEGACIA ELETRONICA</td>\n",
       "      <td>AUTOMOVEL</td>\n",
       "      <td>12</td>\n",
       "    </tr>\n",
       "    <tr>\n",
       "      <th>3</th>\n",
       "      <td>2020</td>\n",
       "      <td>5</td>\n",
       "      <td>2019-12-31</td>\n",
       "      <td>21:15:00</td>\n",
       "      <td>A NOITE</td>\n",
       "      <td>Não</td>\n",
       "      <td>RUA CRISTÓVÃO DE OLIVEIRA</td>\n",
       "      <td>JARDIM NOVE DE JULHO</td>\n",
       "      <td>S.PAULO</td>\n",
       "      <td>Via Pública</td>\n",
       "      <td>DELEGACIA ELETRONICA</td>\n",
       "      <td>AUTOMOVEL</td>\n",
       "      <td>12</td>\n",
       "    </tr>\n",
       "    <tr>\n",
       "      <th>4</th>\n",
       "      <td>2019</td>\n",
       "      <td>1624894</td>\n",
       "      <td>2019-12-31</td>\n",
       "      <td>19:00:00</td>\n",
       "      <td>A NOITE</td>\n",
       "      <td>Não</td>\n",
       "      <td>RUA USHIKICHI KAMIYA</td>\n",
       "      <td>TREMEMBE</td>\n",
       "      <td>S.PAULO</td>\n",
       "      <td>Via Pública</td>\n",
       "      <td>DELEGACIA ELETRONICA</td>\n",
       "      <td>AUTOMOVEL</td>\n",
       "      <td>12</td>\n",
       "    </tr>\n",
       "  </tbody>\n",
       "</table>\n",
       "</div>"
      ],
      "text/plain": [
       "   ANO_BO   NUM_BO DATAOCORRENCIA HORAOCORRENCIA PERIDOOCORRENCIA FLAGRANTE  \\\n",
       "0    2019    10019     2019-12-31       22:30:00          A NOITE       Não   \n",
       "1    2019  1624930     2019-12-31       21:23:00          A NOITE       Não   \n",
       "2    2020        2     2019-12-31       22:00:00          A NOITE       Não   \n",
       "3    2020        5     2019-12-31       21:15:00          A NOITE       Não   \n",
       "4    2019  1624894     2019-12-31       19:00:00          A NOITE       Não   \n",
       "\n",
       "                    LOGRADOURO                        BAIRRO   CIDADE  \\\n",
       "0  AVENIDA RIACHO DOS MACHADOS                    SAO MATEUS  S.PAULO   \n",
       "1         RUA CRISTÓVÃO MENDES  JARDIM SAO PAULO(ZONA LESTE)  S.PAULO   \n",
       "2             RUA FRANZ VONACH                        JACANA  S.PAULO   \n",
       "3    RUA CRISTÓVÃO DE OLIVEIRA          JARDIM NOVE DE JULHO  S.PAULO   \n",
       "4         RUA USHIKICHI KAMIYA                      TREMEMBE  S.PAULO   \n",
       "\n",
       "  DESCRICAOLOCAL            DELEGACIA_NOME DESCR_TIPO_VEICULO  MES  \n",
       "0    Via pública  69º D.P. TEOTONIO VILELA          AUTOMOVEL   12  \n",
       "1    Via Pública      DELEGACIA ELETRONICA          AUTOMOVEL   12  \n",
       "2    Via Pública      DELEGACIA ELETRONICA          AUTOMOVEL   12  \n",
       "3    Via Pública      DELEGACIA ELETRONICA          AUTOMOVEL   12  \n",
       "4    Via Pública      DELEGACIA ELETRONICA          AUTOMOVEL   12  "
      ]
     },
     "execution_count": 8,
     "metadata": {},
     "output_type": "execute_result"
    }
   ],
   "source": [
    "df.head()"
   ]
  },
  {
   "cell_type": "markdown",
   "id": "f47ed00c",
   "metadata": {},
   "source": [
    "### Estimativa de parâmetro (Medida de tendência Central)\n",
    "Media | Mediana | Moda"
   ]
  },
  {
   "cell_type": "code",
   "execution_count": 9,
   "id": "f1977fb4",
   "metadata": {},
   "outputs": [
    {
     "name": "stdout",
     "output_type": "stream",
     "text": [
      "Média: 1.7533317746083703\n",
      "Mediana: 1.0\n",
      "Moda: 0    S.PAULO\n",
      "dtype: object\n"
     ]
    }
   ],
   "source": [
    "print(\"Média:\", df['MES'].mean())\n",
    "print(\"Mediana:\", df['MES'].median())\n",
    "print(\"Moda:\", df['CIDADE'].mode())"
   ]
  },
  {
   "cell_type": "markdown",
   "id": "5ded666e",
   "metadata": {},
   "source": [
    "### Estimativa de variabilidade (Medida de dispersão)¶\n",
    "Variância | Desvio Padrão | Desvio absoluto médio"
   ]
  },
  {
   "cell_type": "code",
   "execution_count": 10,
   "id": "6a87bf76",
   "metadata": {},
   "outputs": [
    {
     "name": "stdout",
     "output_type": "stream",
     "text": [
      "Desvio absoluto médio: 17453.96381119464\n",
      "Variância: 7.57080566468819\n",
      "Desvio padrão: 2.751509706449932\n"
     ]
    }
   ],
   "source": [
    "print(\"Desvio absoluto médio:\", df['NUM_BO'].mad())\n",
    "print(\"Variância:\", df['MES'].var())\n",
    "print(\"Desvio padrão:\", df['MES'].std())"
   ]
  },
  {
   "cell_type": "markdown",
   "id": "42197c6d",
   "metadata": {},
   "source": [
    "### Tabela de frequência"
   ]
  },
  {
   "cell_type": "code",
   "execution_count": 32,
   "id": "f7181021",
   "metadata": {},
   "outputs": [],
   "source": [
    "series = df[\"PERIDOOCORRENCIA\"].value_counts()"
   ]
  },
  {
   "cell_type": "code",
   "execution_count": 34,
   "id": "f371850e",
   "metadata": {},
   "outputs": [
    {
     "data": {
      "text/plain": [
       "A NOITE            2170\n",
       "A TARDE             773\n",
       "PELA MANHÃ          751\n",
       "DE MADRUGADA        577\n",
       "EM HORA INCERTA       6\n",
       "Name: PERIDOOCORRENCIA, dtype: int64"
      ]
     },
     "execution_count": 34,
     "metadata": {},
     "output_type": "execute_result"
    }
   ],
   "source": [
    "series"
   ]
  },
  {
   "cell_type": "code",
   "execution_count": null,
   "id": "95e328a6",
   "metadata": {},
   "outputs": [],
   "source": []
  },
  {
   "cell_type": "code",
   "execution_count": 39,
   "id": "ff68d771",
   "metadata": {},
   "outputs": [
    {
     "ename": "KeyError",
     "evalue": "'PERIDOOCORRENCIA'",
     "output_type": "error",
     "traceback": [
      "\u001b[1;31m---------------------------------------------------------------------------\u001b[0m",
      "\u001b[1;31mKeyError\u001b[0m                                  Traceback (most recent call last)",
      "\u001b[1;32m~\\anaconda3\\lib\\site-packages\\pandas\\core\\indexes\\base.py\u001b[0m in \u001b[0;36mget_loc\u001b[1;34m(self, key, method, tolerance)\u001b[0m\n\u001b[0;32m   3079\u001b[0m             \u001b[1;32mtry\u001b[0m\u001b[1;33m:\u001b[0m\u001b[1;33m\u001b[0m\u001b[1;33m\u001b[0m\u001b[0m\n\u001b[1;32m-> 3080\u001b[1;33m                 \u001b[1;32mreturn\u001b[0m \u001b[0mself\u001b[0m\u001b[1;33m.\u001b[0m\u001b[0m_engine\u001b[0m\u001b[1;33m.\u001b[0m\u001b[0mget_loc\u001b[0m\u001b[1;33m(\u001b[0m\u001b[0mcasted_key\u001b[0m\u001b[1;33m)\u001b[0m\u001b[1;33m\u001b[0m\u001b[1;33m\u001b[0m\u001b[0m\n\u001b[0m\u001b[0;32m   3081\u001b[0m             \u001b[1;32mexcept\u001b[0m \u001b[0mKeyError\u001b[0m \u001b[1;32mas\u001b[0m \u001b[0merr\u001b[0m\u001b[1;33m:\u001b[0m\u001b[1;33m\u001b[0m\u001b[1;33m\u001b[0m\u001b[0m\n",
      "\u001b[1;32mpandas\\_libs\\index.pyx\u001b[0m in \u001b[0;36mpandas._libs.index.IndexEngine.get_loc\u001b[1;34m()\u001b[0m\n",
      "\u001b[1;32mpandas\\_libs\\index.pyx\u001b[0m in \u001b[0;36mpandas._libs.index.IndexEngine.get_loc\u001b[1;34m()\u001b[0m\n",
      "\u001b[1;32mpandas\\_libs\\hashtable_class_helper.pxi\u001b[0m in \u001b[0;36mpandas._libs.hashtable.PyObjectHashTable.get_item\u001b[1;34m()\u001b[0m\n",
      "\u001b[1;32mpandas\\_libs\\hashtable_class_helper.pxi\u001b[0m in \u001b[0;36mpandas._libs.hashtable.PyObjectHashTable.get_item\u001b[1;34m()\u001b[0m\n",
      "\u001b[1;31mKeyError\u001b[0m: 'PERIDOOCORRENCIA'",
      "\nThe above exception was the direct cause of the following exception:\n",
      "\u001b[1;31mKeyError\u001b[0m                                  Traceback (most recent call last)",
      "\u001b[1;32m<ipython-input-39-4e7c283619c8>\u001b[0m in \u001b[0;36m<module>\u001b[1;34m\u001b[0m\n\u001b[1;32m----> 1\u001b[1;33m \u001b[0mtotal_elementos\u001b[0m \u001b[1;33m=\u001b[0m \u001b[0mseries\u001b[0m\u001b[1;33m[\u001b[0m\u001b[1;34m\"PERIDOOCORRENCIA\"\u001b[0m\u001b[1;33m]\u001b[0m\u001b[1;33m.\u001b[0m\u001b[0msum\u001b[0m\u001b[1;33m(\u001b[0m\u001b[1;33m)\u001b[0m\u001b[1;33m\u001b[0m\u001b[1;33m\u001b[0m\u001b[0m\n\u001b[0m",
      "\u001b[1;32m~\\anaconda3\\lib\\site-packages\\pandas\\core\\series.py\u001b[0m in \u001b[0;36m__getitem__\u001b[1;34m(self, key)\u001b[0m\n\u001b[0;32m    851\u001b[0m \u001b[1;33m\u001b[0m\u001b[0m\n\u001b[0;32m    852\u001b[0m         \u001b[1;32melif\u001b[0m \u001b[0mkey_is_scalar\u001b[0m\u001b[1;33m:\u001b[0m\u001b[1;33m\u001b[0m\u001b[1;33m\u001b[0m\u001b[0m\n\u001b[1;32m--> 853\u001b[1;33m             \u001b[1;32mreturn\u001b[0m \u001b[0mself\u001b[0m\u001b[1;33m.\u001b[0m\u001b[0m_get_value\u001b[0m\u001b[1;33m(\u001b[0m\u001b[0mkey\u001b[0m\u001b[1;33m)\u001b[0m\u001b[1;33m\u001b[0m\u001b[1;33m\u001b[0m\u001b[0m\n\u001b[0m\u001b[0;32m    854\u001b[0m \u001b[1;33m\u001b[0m\u001b[0m\n\u001b[0;32m    855\u001b[0m         \u001b[1;32mif\u001b[0m \u001b[0mis_hashable\u001b[0m\u001b[1;33m(\u001b[0m\u001b[0mkey\u001b[0m\u001b[1;33m)\u001b[0m\u001b[1;33m:\u001b[0m\u001b[1;33m\u001b[0m\u001b[1;33m\u001b[0m\u001b[0m\n",
      "\u001b[1;32m~\\anaconda3\\lib\\site-packages\\pandas\\core\\series.py\u001b[0m in \u001b[0;36m_get_value\u001b[1;34m(self, label, takeable)\u001b[0m\n\u001b[0;32m    959\u001b[0m \u001b[1;33m\u001b[0m\u001b[0m\n\u001b[0;32m    960\u001b[0m         \u001b[1;31m# Similar to Index.get_value, but we do not fall back to positional\u001b[0m\u001b[1;33m\u001b[0m\u001b[1;33m\u001b[0m\u001b[1;33m\u001b[0m\u001b[0m\n\u001b[1;32m--> 961\u001b[1;33m         \u001b[0mloc\u001b[0m \u001b[1;33m=\u001b[0m \u001b[0mself\u001b[0m\u001b[1;33m.\u001b[0m\u001b[0mindex\u001b[0m\u001b[1;33m.\u001b[0m\u001b[0mget_loc\u001b[0m\u001b[1;33m(\u001b[0m\u001b[0mlabel\u001b[0m\u001b[1;33m)\u001b[0m\u001b[1;33m\u001b[0m\u001b[1;33m\u001b[0m\u001b[0m\n\u001b[0m\u001b[0;32m    962\u001b[0m         \u001b[1;32mreturn\u001b[0m \u001b[0mself\u001b[0m\u001b[1;33m.\u001b[0m\u001b[0mindex\u001b[0m\u001b[1;33m.\u001b[0m\u001b[0m_get_values_for_loc\u001b[0m\u001b[1;33m(\u001b[0m\u001b[0mself\u001b[0m\u001b[1;33m,\u001b[0m \u001b[0mloc\u001b[0m\u001b[1;33m,\u001b[0m \u001b[0mlabel\u001b[0m\u001b[1;33m)\u001b[0m\u001b[1;33m\u001b[0m\u001b[1;33m\u001b[0m\u001b[0m\n\u001b[0;32m    963\u001b[0m \u001b[1;33m\u001b[0m\u001b[0m\n",
      "\u001b[1;32m~\\anaconda3\\lib\\site-packages\\pandas\\core\\indexes\\base.py\u001b[0m in \u001b[0;36mget_loc\u001b[1;34m(self, key, method, tolerance)\u001b[0m\n\u001b[0;32m   3080\u001b[0m                 \u001b[1;32mreturn\u001b[0m \u001b[0mself\u001b[0m\u001b[1;33m.\u001b[0m\u001b[0m_engine\u001b[0m\u001b[1;33m.\u001b[0m\u001b[0mget_loc\u001b[0m\u001b[1;33m(\u001b[0m\u001b[0mcasted_key\u001b[0m\u001b[1;33m)\u001b[0m\u001b[1;33m\u001b[0m\u001b[1;33m\u001b[0m\u001b[0m\n\u001b[0;32m   3081\u001b[0m             \u001b[1;32mexcept\u001b[0m \u001b[0mKeyError\u001b[0m \u001b[1;32mas\u001b[0m \u001b[0merr\u001b[0m\u001b[1;33m:\u001b[0m\u001b[1;33m\u001b[0m\u001b[1;33m\u001b[0m\u001b[0m\n\u001b[1;32m-> 3082\u001b[1;33m                 \u001b[1;32mraise\u001b[0m \u001b[0mKeyError\u001b[0m\u001b[1;33m(\u001b[0m\u001b[0mkey\u001b[0m\u001b[1;33m)\u001b[0m \u001b[1;32mfrom\u001b[0m \u001b[0merr\u001b[0m\u001b[1;33m\u001b[0m\u001b[1;33m\u001b[0m\u001b[0m\n\u001b[0m\u001b[0;32m   3083\u001b[0m \u001b[1;33m\u001b[0m\u001b[0m\n\u001b[0;32m   3084\u001b[0m         \u001b[1;32mif\u001b[0m \u001b[0mtolerance\u001b[0m \u001b[1;32mis\u001b[0m \u001b[1;32mnot\u001b[0m \u001b[1;32mNone\u001b[0m\u001b[1;33m:\u001b[0m\u001b[1;33m\u001b[0m\u001b[1;33m\u001b[0m\u001b[0m\n",
      "\u001b[1;31mKeyError\u001b[0m: 'PERIDOOCORRENCIA'"
     ]
    }
   ],
   "source": [
    "total_elementos = series[\"PERIDOOCORRENCIA\"].sum()"
   ]
  },
  {
   "cell_type": "code",
   "execution_count": 36,
   "id": "2e6b60e1",
   "metadata": {},
   "outputs": [],
   "source": [
    "df1 = pd.DataFrame(series)"
   ]
  },
  {
   "cell_type": "code",
   "execution_count": 37,
   "id": "88c9667b",
   "metadata": {},
   "outputs": [
    {
     "data": {
      "text/html": [
       "<div>\n",
       "<style scoped>\n",
       "    .dataframe tbody tr th:only-of-type {\n",
       "        vertical-align: middle;\n",
       "    }\n",
       "\n",
       "    .dataframe tbody tr th {\n",
       "        vertical-align: top;\n",
       "    }\n",
       "\n",
       "    .dataframe thead th {\n",
       "        text-align: right;\n",
       "    }\n",
       "</style>\n",
       "<table border=\"1\" class=\"dataframe\">\n",
       "  <thead>\n",
       "    <tr style=\"text-align: right;\">\n",
       "      <th></th>\n",
       "      <th>PERIDOOCORRENCIA</th>\n",
       "    </tr>\n",
       "  </thead>\n",
       "  <tbody>\n",
       "    <tr>\n",
       "      <th>A NOITE</th>\n",
       "      <td>2170</td>\n",
       "    </tr>\n",
       "    <tr>\n",
       "      <th>A TARDE</th>\n",
       "      <td>773</td>\n",
       "    </tr>\n",
       "    <tr>\n",
       "      <th>PELA MANHÃ</th>\n",
       "      <td>751</td>\n",
       "    </tr>\n",
       "    <tr>\n",
       "      <th>DE MADRUGADA</th>\n",
       "      <td>577</td>\n",
       "    </tr>\n",
       "    <tr>\n",
       "      <th>EM HORA INCERTA</th>\n",
       "      <td>6</td>\n",
       "    </tr>\n",
       "  </tbody>\n",
       "</table>\n",
       "</div>"
      ],
      "text/plain": [
       "                 PERIDOOCORRENCIA\n",
       "A NOITE                      2170\n",
       "A TARDE                       773\n",
       "PELA MANHÃ                    751\n",
       "DE MADRUGADA                  577\n",
       "EM HORA INCERTA                 6"
      ]
     },
     "execution_count": 37,
     "metadata": {},
     "output_type": "execute_result"
    }
   ],
   "source": [
    "df1"
   ]
  },
  {
   "cell_type": "code",
   "execution_count": null,
   "id": "721ccba0",
   "metadata": {},
   "outputs": [],
   "source": [
    "df1['FREQUENCIA %'] = df1[\"PERIDOOCORRENCIA\"]*100 / "
   ]
  },
  {
   "cell_type": "markdown",
   "id": "caa874dd",
   "metadata": {},
   "source": [
    "### Tabela de frequência e histograma"
   ]
  },
  {
   "cell_type": "code",
   "execution_count": 11,
   "id": "6c9df742",
   "metadata": {},
   "outputs": [
    {
     "data": {
      "image/png": "[encoded data removed]",
      "text/plain": [
       "<Figure size 432x288 with 1 Axes>"
      ]
     },
     "metadata": {
      "needs_background": "light"
     },
     "output_type": "display_data"
    }
   ],
   "source": [
    "df.hist(column='MES', bins=20)\n",
    "plt.show()"
   ]
  },
  {
   "cell_type": "code",
   "execution_count": 12,
   "id": "68eca3b7",
   "metadata": {},
   "outputs": [
    {
     "name": "stdout",
     "output_type": "stream",
     "text": [
      "<class 'pandas.core.frame.DataFrame'>\n",
      "RangeIndex: 4277 entries, 0 to 4276\n",
      "Data columns (total 13 columns):\n",
      " #   Column              Non-Null Count  Dtype         \n",
      "---  ------              --------------  -----         \n",
      " 0   ANO_BO              4277 non-null   int64         \n",
      " 1   NUM_BO              4277 non-null   int64         \n",
      " 2   DATAOCORRENCIA      4277 non-null   datetime64[ns]\n",
      " 3   HORAOCORRENCIA      4093 non-null   object        \n",
      " 4   PERIDOOCORRENCIA    4277 non-null   object        \n",
      " 5   FLAGRANTE           4277 non-null   object        \n",
      " 6   LOGRADOURO          4050 non-null   object        \n",
      " 7   BAIRRO              4270 non-null   object        \n",
      " 8   CIDADE              4274 non-null   object        \n",
      " 9   DESCRICAOLOCAL      4277 non-null   object        \n",
      " 10  DELEGACIA_NOME      4277 non-null   object        \n",
      " 11  DESCR_TIPO_VEICULO  3219 non-null   object        \n",
      " 12  MES                 4277 non-null   int64         \n",
      "dtypes: datetime64[ns](1), int64(3), object(9)\n",
      "memory usage: 434.5+ KB\n"
     ]
    }
   ],
   "source": [
    "df.info()"
   ]
  },
  {
   "cell_type": "code",
   "execution_count": null,
   "id": "40fbe848",
   "metadata": {},
   "outputs": [],
   "source": []
  },
  {
   "cell_type": "code",
   "execution_count": null,
   "id": "53b5f81f",
   "metadata": {},
   "outputs": [],
   "source": []
  }
 ],
 "metadata": {
  "kernelspec": {
   "display_name": "Python 3",
   "language": "python",
   "name": "python3"
  },
  "language_info": {
   "codemirror_mode": {
    "name": "ipython",
    "version": 3
   },
   "file_extension": ".py",
   "mimetype": "text/x-python",
   "name": "python",
   "nbconvert_exporter": "python",
   "pygments_lexer": "ipython3",
   "version": "3.8.8"
  },
  "widgets": {
   "application/vnd.jupyter.widget-state+json": {
    "state": {},
    "version_major": 2,
    "version_minor": 0
   }
  }
 },
 "nbformat": 4,
 "nbformat_minor": 5
}
