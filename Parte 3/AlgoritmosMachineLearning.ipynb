{
 "cells": [
  {
   "cell_type": "markdown",
   "id": "4abaad8a",
   "metadata": {},
   "source": [
    "# Algoritmos de Machine Learning\n",
    "Este trabalho consiste na utilização de algoritmos de machine learning com a finalidade de criar modelos (preditivos, escritivos ou híbridos) que possibilitem extrair padrões ou conhecimento do dataset utilizado nos trabalhos anteriores."
   ]
  },
  {
   "cell_type": "code",
   "execution_count": 1,
   "id": "979c36d4",
   "metadata": {},
   "outputs": [],
   "source": [
    "import pandas as pd\n",
    "import numpy as np\n",
    "import datetime\n",
    "import matplotlib.pyplot as plt\n",
    "from datetime import datetime\n",
    "import plotly.offline as py\n",
    "import plotly.graph_objs as go\n",
    "import plotly \n",
    "from sklearn.model_selection import train_test_split\n",
    "import tensorflow\n",
    "from tensorflow import keras\n",
    "from keras.models import model_from_json\n",
    "#plotly.offline.init_notbook_mode()"
   ]
  },
  {
   "cell_type": "code",
   "execution_count": 2,
   "id": "a78b1f4c",
   "metadata": {},
   "outputs": [],
   "source": [
    "df = pd.read_csv('csvfile_preprocessado.csv', usecols = ['ANO_BO', \n",
    "                                                        'NUM_BO', \n",
    "                                                        'DATAOCORRENCIA',\n",
    "                                                        'HORAOCORRENCIA',\n",
    "                                                        'HORARIOOCORRENCIA',\n",
    "                                                        'PERIDOOCORRENCIA',\n",
    "                                                        'BAIRRO', \n",
    "                                                        'CIDADE',\n",
    "                                                        'LOGRADOURO', \n",
    "                                                        'DESCRICAOLOCAL', \n",
    "                                                        'DESCR_TIPO_VEICULO', \n",
    "                                                        'DELEGACIA_NOME',\n",
    "                                                        'FLAGRANTE',\n",
    "                                                        ], \n",
    "    encoding='utf-8', \n",
    ")"
   ]
  },
  {
   "cell_type": "code",
   "execution_count": 3,
   "id": "b6f9dc99",
   "metadata": {},
   "outputs": [],
   "source": [
    "# Transformar a coluna DATAOCORRENCIA em uma coluna do tipo Datetime\n",
    "df['DATAOCORRENCIA'] = pd.to_datetime(df['DATAOCORRENCIA'], format = '%Y-%m-%d') #%d-%m-%Y')"
   ]
  },
  {
   "cell_type": "code",
   "execution_count": 20,
   "id": "9392790a",
   "metadata": {},
   "outputs": [],
   "source": [
    "df['HORAOCORRENCIA'] = pd.to_datetime(df['HORAOCORRENCIA'], format = '%H:%M:%S').dt.time"
   ]
  },
  {
   "cell_type": "raw",
   "id": "e9d7dfa7",
   "metadata": {},
   "source": [
    "#print(\"Quantidade de tuplas: \", df.shape[0])"
   ]
  },
  {
   "cell_type": "raw",
   "id": "4ba749fe",
   "metadata": {},
   "source": [
    "#df['MES'] = df['DATAOCORRENCIA'].dt.strftime('%m')"
   ]
  },
  {
   "cell_type": "code",
   "execution_count": 5,
   "id": "3ad9cfde",
   "metadata": {},
   "outputs": [],
   "source": [
    "df['MES'] = df['DATAOCORRENCIA'].apply(lambda x: int(str(x)[5:7]))"
   ]
  },
  {
   "cell_type": "code",
   "execution_count": 22,
   "id": "af27a43e",
   "metadata": {},
   "outputs": [],
   "source": [
    "#df.head()\n",
    "#df.tail()\n",
    "#df.info()"
   ]
  },
  {
   "cell_type": "raw",
   "id": "8380370c",
   "metadata": {},
   "source": [
    "x1=df.MES\n",
    "y1=df.PERIDOOCORRENCIA\n",
    "\n",
    "data=[go.Scatter(x=x1, y=y1)]\n",
    "layout = go.Layout(\n",
    "    xaxis=dict(\n",
    "        range=['01-01-2019', '01-12-2020'],\n",
    "        title='ANO'\n",
    "    ),\n",
    "    yaxis=dict(\n",
    "        range=[min(x1), max(y1)],\n",
    "        title='HORA'\n",
    "    )\n",
    ")\n",
    "fig = go.Figure(data = data, layout = layout)\n",
    "py.iplot(fig)"
   ]
  },
  {
   "cell_type": "code",
   "execution_count": 23,
   "id": "31cc64b6",
   "metadata": {},
   "outputs": [
    {
     "ename": "TypeError",
     "evalue": "unsupported operand type(s) for -: 'str' and 'int'",
     "output_type": "error",
     "traceback": [
      "\u001b[1;31m---------------------------------------------------------------------------\u001b[0m",
      "\u001b[1;31mTypeError\u001b[0m                                 Traceback (most recent call last)",
      "\u001b[1;32m<ipython-input-23-fc7b37ea6ca2>\u001b[0m in \u001b[0;36m<module>\u001b[1;34m\u001b[0m\n\u001b[0;32m      5\u001b[0m \u001b[1;33m\u001b[0m\u001b[0m\n\u001b[0;32m      6\u001b[0m \u001b[1;32mfor\u001b[0m \u001b[0mi\u001b[0m \u001b[1;32min\u001b[0m \u001b[0mrange\u001b[0m\u001b[1;33m(\u001b[0m\u001b[1;36m4276\u001b[0m\u001b[1;33m)\u001b[0m\u001b[1;33m:\u001b[0m\u001b[1;33m\u001b[0m\u001b[1;33m\u001b[0m\u001b[0m\n\u001b[1;32m----> 7\u001b[1;33m    \u001b[0mvaloresSaida\u001b[0m\u001b[1;33m[\u001b[0m\u001b[0mi\u001b[0m\u001b[1;33m]\u001b[0m\u001b[1;33m=\u001b[0m \u001b[0msaidas\u001b[0m\u001b[1;33m[\u001b[0m\u001b[0mi\u001b[0m\u001b[1;33m]\u001b[0m\u001b[1;33m-\u001b[0m\u001b[1;36m1\u001b[0m\u001b[1;33m\u001b[0m\u001b[1;33m\u001b[0m\u001b[0m\n\u001b[0m\u001b[0;32m      8\u001b[0m \u001b[1;33m\u001b[0m\u001b[0m\n\u001b[0;32m      9\u001b[0m \u001b[0mentradasTrain\u001b[0m\u001b[1;33m,\u001b[0m \u001b[0mentradasTest\u001b[0m\u001b[1;33m,\u001b[0m \u001b[0mvaloresSaidaTrain\u001b[0m\u001b[1;33m,\u001b[0m \u001b[0mvaloresSaidaTest\u001b[0m \u001b[1;33m=\u001b[0m \u001b[0mtrain_test_split\u001b[0m\u001b[1;33m(\u001b[0m\u001b[0mentradas\u001b[0m\u001b[1;33m,\u001b[0m \u001b[0mvaloresSaida\u001b[0m\u001b[1;33m,\u001b[0m \u001b[0mtest_size\u001b[0m\u001b[1;33m=\u001b[0m\u001b[1;36m0.3\u001b[0m\u001b[1;33m)\u001b[0m\u001b[1;33m\u001b[0m\u001b[1;33m\u001b[0m\u001b[0m\n",
      "\u001b[1;31mTypeError\u001b[0m: unsupported operand type(s) for -: 'str' and 'int'"
     ]
    }
   ],
   "source": [
    "entrada = df['HORAOCORRENCIA'].to_numpy()\n",
    "saidas = df['PERIDOOCORRENCIA']\n",
    "\n",
    "valoresSaida = np.empty((4276, 1), dtype=int) #vetor\n",
    "\n",
    "for i in range(4276):\n",
    "   valoresSaida[i]= saidas[i]-1\n",
    "\n",
    "entradasTrain, entradasTest, valoresSaidaTrain, valoresSaidaTest = train_test_split(entradas, valoresSaida, test_size=0.3)"
   ]
  },
  {
   "cell_type": "code",
   "execution_count": null,
   "id": "3f908820",
   "metadata": {},
   "outputs": [],
   "source": [
    "print(\"Quantidade de Dados de Treino:\" ,len(entradasTrain))\n",
    "print(\"Quantidade de Dados de Teste:\" ,len(entradasTest))\n",
    "\n",
    "print(\"Quantidade de Dados de Treino e dos atributos:\" ,entradasTrain.shape)\n",
    "print(\"Quantidade de Dados de Teste e dos atributos\" ,entradasTest.shape)\n",
    "\n",
    "print(\"Quantidade de Saidas de Treino e coluna:\" ,valoresSaidaTrain.shape)\n",
    "print(\"Quantidade de Saidas de Teste e coluna:\" ,valoresSaidaTest.shape)\n",
    "\n",
    "print(\"min: \", valoresSaidaTrain.min())\n",
    "print(\"max: \", valoresSaidaTrain.max())"
   ]
  },
  {
   "cell_type": "code",
   "execution_count": null,
   "id": "f76fadcd",
   "metadata": {},
   "outputs": [],
   "source": [
    "#aqui eu calculo o meu medelo\n",
    "modelo = keras.Sequential([keras.layers.Dropout(0.2),\n",
    "                           keras.layers.Dense(130, activation=tensorflow.nn.relu), # a deeplearn comecei com valores\n",
    "                           keras.layers.Dense(70, activation=tensorflow.nn.relu),  # para a ver a minha acuracia aumentar\n",
    "                           keras.layers.Dense(40, activation=tensorflow.nn.relu),  # usandoo função relu\n",
    "                           keras.layers.Dense(13, activation=tensorflow.nn.relu),\n",
    "                           keras.layers.Dense(3, activation=tensorflow.nn.softmax) # saida\n",
    "                           ]) \n",
    "\n",
    "modelo.compile(optimizer='adam', loss='sparse_categorical_crossentropy', metrics='accuracy')"
   ]
  },
  {
   "cell_type": "code",
   "execution_count": null,
   "id": "a461a435",
   "metadata": {},
   "outputs": [],
   "source": [
    "# aqui eu faço o treinamento da minha rede, passando os valores de treino e de saída, epocas e validação\n",
    "hist=modelo.fit(entradasTrain, valoresSaidaTrain, epochs=70, validation_split=0.3)"
   ]
  },
  {
   "cell_type": "code",
   "execution_count": null,
   "id": "c5c6cfcb",
   "metadata": {},
   "outputs": [],
   "source": [
    "# aqui peço para plotar o meu grafico\n",
    "plt.plot(hist.history['accuracy'])\n",
    "plt.plot(hist.history['val_accuracy'])\n",
    "plt.title('Acurácia por épocas')\n",
    "plt.xlabel('Épocas')\n",
    "plt.ylabel('Acurácia')\n",
    "plt.legend(['Treino', 'Validação'])\n",
    "\n",
    "plt.plot(hist.history['loss'])\n",
    "plt.plot(hist.history['val_loss'])\n",
    "plt.title('Loss por épocas')\n",
    "plt.xlabel('Épocas')\n",
    "plt.ylabel('Loss')\n",
    "plt.legend(['Treino', 'Validação'])"
   ]
  },
  {
   "cell_type": "code",
   "execution_count": null,
   "id": "cbba56c5",
   "metadata": {},
   "outputs": [],
   "source": [
    "# aqui estou salvando o meu modelo para poder reurar em outros datasets\n",
    "model_json = modelo.to_json()\n",
    "with open(\"model.json\", \"w\") as json_file:\n",
    "   json_file.write(model_json)\n",
    "\n",
    "modelo.save_weights(\"model.h5\")\n",
    "print(\"Modelo Salvo\")\n",
    "\n",
    "json_file = open(\"model.json\", \"r\")\n",
    "loaded_model_json = json_file.read()\n",
    "json_file.close()\n",
    "\n",
    "loaded_model = model_from_json(loaded_model_json)\n",
    "loaded_model.load_weights(\"model.h5\")\n",
    "print(\"Modelo Carregado\")\n",
    "\n",
    "loaded_model.compile(optimizer='adam', loss='sparse_categorical_crossentropy', metrics='accuracy')\n",
    "\n",
    "perda_teste, acuracia_teste = loaded_model.evaluate(entradasTest, valoresSaidaTest)\n",
    "print(\"Perda do teste: \", perda_teste)\n",
    "print(\"Acurácia do teste: \", acuracia_teste)\n",
    "testes=loaded_model.predict(entradasTest)\n",
    "\n",
    "x=0\n",
    "for i in testes:\n",
    "   print(np.argmax(i), valoresSaidaTest[x])\n",
    "   x=x+1"
   ]
  }
 ],
 "metadata": {
  "kernelspec": {
   "display_name": "Python 3",
   "language": "python",
   "name": "python3"
  },
  "language_info": {
   "codemirror_mode": {
    "name": "ipython",
    "version": 3
   },
   "file_extension": ".py",
   "mimetype": "text/x-python",
   "name": "python",
   "nbconvert_exporter": "python",
   "pygments_lexer": "ipython3",
   "version": "3.8.8"
  },
  "widgets": {
   "application/vnd.jupyter.widget-state+json": {
    "state": {},
    "version_major": 2,
    "version_minor": 0
   }
  }
 },
 "nbformat": 4,
 "nbformat_minor": 5
}
