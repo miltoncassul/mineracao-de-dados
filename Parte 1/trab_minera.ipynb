{
 "cells": [
  {
   "cell_type": "markdown",
   "id": "4c371c4e",
   "metadata": {},
   "source": [
    "# Roubo de Veículos"
   ]
  },
  {
   "cell_type": "code",
   "execution_count": 1,
   "id": "f00fce8c",
   "metadata": {},
   "outputs": [],
   "source": [
    "from selenium import webdriver\n",
    "from selenium.webdriver.common.keys import Keys\n",
    "from selenium.webdriver.firefox.options import Options\n",
    "from selenium.webdriver.support.ui import WebDriverWait\n",
    "from selenium.webdriver.support import expected_conditions as EC\n",
    "from selenium.webdriver.common.by import By\n",
    "\n",
    "import time\n",
    "import numpy as np\n",
    "import pandas as pd"
   ]
  },
  {
   "cell_type": "code",
   "execution_count": 2,
   "id": "df83f6e7",
   "metadata": {},
   "outputs": [],
   "source": [
    "options = Options()\n",
    "\n",
    "options.add_argument('--headless')\n",
    "\n",
    "fp = webdriver.FirefoxProfile()\n",
    "fp.set_preference('browser.download.folderList', 2) # 2 means custom location\n",
    "fp.set_preference('browser.download.manager.showWhenStarting', False)\n",
    "fp.set_preference('browser.download.dir', r'C:\\Users\\Cassul\\Desktop\\trabalho_mineracao') # location is tmp\n",
    "fp.set_preference('browser.helperApps.neverAsk.saveToDisk', 'application/excel')"
   ]
  },
  {
   "cell_type": "code",
   "execution_count": 3,
   "id": "0da63e48",
   "metadata": {},
   "outputs": [],
   "source": [
    "array_ano = np.arange(20,21)\n",
    "array_mes = np.arange(1,13)"
   ]
  },
  {
   "cell_type": "code",
   "execution_count": 4,
   "id": "5854b614",
   "metadata": {},
   "outputs": [],
   "source": [
    "def SSP_SP_all(driver):\n",
    "    for item in array_ano:\n",
    "        driver.get (\"http://www.ssp.sp.gov.br/transparenciassp/Consulta.aspx\")\n",
    "        time.sleep(2)\n",
    "        driver.find_element_by_id(\"cphBody_btnRouboVeiculo\").click()\n",
    "        time.sleep(2)\n",
    "        driver.find_element_by_id(\"cphBody_lkAno\"+str(item)).click()\n",
    "        time.sleep(2)\n",
    "        for i in array_mes:\n",
    "            try:\n",
    "                driver.find_element_by_id(\"cphBody_lkMes\"+str(i)).click()\n",
    "                time.sleep(2)\n",
    "                driver.find_element_by_id(\"cphBody_ExportarBOLink\").click()\n",
    "            except:\n",
    "                pass"
   ]
  },
  {
   "cell_type": "code",
   "execution_count": 5,
   "id": "c3d2fde2",
   "metadata": {},
   "outputs": [],
   "source": [
    "driver = webdriver.Firefox(fp)\n",
    "SSP_SP_all(driver)"
   ]
  }
 ],
 "metadata": {
  "kernelspec": {
   "display_name": "Python 3",
   "language": "python",
   "name": "python3"
  },
  "language_info": {
   "codemirror_mode": {
    "name": "ipython",
    "version": 3
   },
   "file_extension": ".py",
   "mimetype": "text/x-python",
   "name": "python",
   "nbconvert_exporter": "python",
   "pygments_lexer": "ipython3",
   "version": "3.8.8"
  }
 },
 "nbformat": 4,
 "nbformat_minor": 5
}
