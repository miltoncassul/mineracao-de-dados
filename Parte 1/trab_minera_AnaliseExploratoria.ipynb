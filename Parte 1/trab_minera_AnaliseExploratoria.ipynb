{
 "cells": [
  {
   "cell_type": "code",
   "execution_count": 1,
   "id": "1af58f8f",
   "metadata": {},
   "outputs": [],
   "source": [
    "import pandas as pd\n",
    "import numpy as np\n",
    "import datetime\n",
    "from datetime import datetime"
   ]
  },
  {
   "cell_type": "raw",
   "id": "61a80149",
   "metadata": {},
   "source": [
    "duplicados = df[df.duplicated(keep='first')]\n",
    "print(duplicados)"
   ]
  },
  {
   "cell_type": "code",
   "execution_count": 2,
   "id": "9b26bbab",
   "metadata": {},
   "outputs": [],
   "source": [
    "df = pd.read_csv('csvfile.csv', usecols = ['ANO_BO', \n",
    "                                           'NUM_BO', \n",
    "                                           'DATAOCORRENCIA',\n",
    "                                           'HORAOCORRENCIA',\n",
    "                                           'PERIDOOCORRENCIA', \n",
    "                                           'BAIRRO', 'CIDADE', \n",
    "                                           'LATITUDE', \n",
    "                                           'LONGITUDE', \n",
    "                                           'LOGRADOURO', \n",
    "                                           'DESCRICAOLOCAL', \n",
    "                                           'DESCR_TIPO_VEICULO', \n",
    "                                           'DELEGACIA_NOME',\n",
    "                                           'FLAGRANTE',   \n",
    "                                           ], \n",
    "    encoding='utf-8'\n",
    ")"
   ]
  },
  {
   "cell_type": "code",
   "execution_count": null,
   "id": "9b95415d",
   "metadata": {},
   "outputs": [],
   "source": []
  },
  {
   "cell_type": "raw",
   "id": "b544d546",
   "metadata": {},
   "source": [
    "df = pd.read_csv('csvfile.csv', encoding='utf-8')"
   ]
  },
  {
   "cell_type": "code",
   "execution_count": 30,
   "id": "7a8d9bc8",
   "metadata": {},
   "outputs": [],
   "source": [
    "df['DATAOCORRENCIA'] = pd.to_datetime(df['DATAOCORRENCIA'], format= '%Y-%m-%d') #%d-%m-%Y')\n",
    "\n",
    "#strptime(df['DATAOCORRENCIA'], format='%d-%m-%Y')"
   ]
  },
  {
   "cell_type": "markdown",
   "id": "69b4f808",
   "metadata": {},
   "source": [
    "##### Quantidade de tuplas"
   ]
  },
  {
   "cell_type": "code",
   "execution_count": 4,
   "id": "2f7aa859",
   "metadata": {},
   "outputs": [
    {
     "name": "stdout",
     "output_type": "stream",
     "text": [
      "Quantidade de tuplas:  9306\n"
     ]
    }
   ],
   "source": [
    "before_drop = df.shape[0]\n",
    "print(\"Quantidade de tuplas: \",df.shape[0])"
   ]
  },
  {
   "cell_type": "markdown",
   "id": "e5c66b19",
   "metadata": {},
   "source": [
    "##### Remoção de tuplas duplicadas"
   ]
  },
  {
   "cell_type": "code",
   "execution_count": 5,
   "id": "f283947e",
   "metadata": {},
   "outputs": [],
   "source": [
    "df.drop_duplicates(subset=['DELEGACIA_NOME', 'ANO_BO', 'NUM_BO'], inplace=True)\n",
    "df.reset_index(drop=True, inplace=True)"
   ]
  },
  {
   "cell_type": "code",
   "execution_count": 6,
   "id": "e12e6f56",
   "metadata": {},
   "outputs": [
    {
     "name": "stdout",
     "output_type": "stream",
     "text": [
      "Quantidade de tuplas:  4277\n"
     ]
    }
   ],
   "source": [
    "after_drop = df.shape[0]\n",
    "print(\"Quantidade de tuplas: \",df.shape[0])"
   ]
  },
  {
   "cell_type": "code",
   "execution_count": 7,
   "id": "a152e624",
   "metadata": {},
   "outputs": [
    {
     "data": {
      "text/html": [
       "<div>\n",
       "<style scoped>\n",
       "    .dataframe tbody tr th:only-of-type {\n",
       "        vertical-align: middle;\n",
       "    }\n",
       "\n",
       "    .dataframe tbody tr th {\n",
       "        vertical-align: top;\n",
       "    }\n",
       "\n",
       "    .dataframe thead th {\n",
       "        text-align: right;\n",
       "    }\n",
       "</style>\n",
       "<table border=\"1\" class=\"dataframe\">\n",
       "  <thead>\n",
       "    <tr style=\"text-align: right;\">\n",
       "      <th></th>\n",
       "      <th>ANO_BO</th>\n",
       "      <th>NUM_BO</th>\n",
       "      <th>DATAOCORRENCIA</th>\n",
       "      <th>HORAOCORRENCIA</th>\n",
       "      <th>PERIDOOCORRENCIA</th>\n",
       "      <th>FLAGRANTE</th>\n",
       "      <th>LOGRADOURO</th>\n",
       "      <th>BAIRRO</th>\n",
       "      <th>CIDADE</th>\n",
       "      <th>LATITUDE</th>\n",
       "      <th>LONGITUDE</th>\n",
       "      <th>DESCRICAOLOCAL</th>\n",
       "      <th>DELEGACIA_NOME</th>\n",
       "      <th>DESCR_TIPO_VEICULO</th>\n",
       "    </tr>\n",
       "  </thead>\n",
       "  <tbody>\n",
       "    <tr>\n",
       "      <th>0</th>\n",
       "      <td>2019</td>\n",
       "      <td>10019</td>\n",
       "      <td>2019-12-31</td>\n",
       "      <td>22:30:00</td>\n",
       "      <td>A NOITE</td>\n",
       "      <td>Não</td>\n",
       "      <td>AVENIDA RIACHO DOS MACHADOS</td>\n",
       "      <td>SAO MATEUS</td>\n",
       "      <td>S.PAULO</td>\n",
       "      <td>-23.593903</td>\n",
       "      <td>-46.494643</td>\n",
       "      <td>Via pública</td>\n",
       "      <td>69º D.P. TEOTONIO VILELA</td>\n",
       "      <td>AUTOMOVEL</td>\n",
       "    </tr>\n",
       "    <tr>\n",
       "      <th>1</th>\n",
       "      <td>2019</td>\n",
       "      <td>1624930</td>\n",
       "      <td>2019-12-31</td>\n",
       "      <td>21:23:00</td>\n",
       "      <td>A NOITE</td>\n",
       "      <td>Não</td>\n",
       "      <td>RUA CRISTÓVÃO MENDES</td>\n",
       "      <td>JARDIM SAO PAULO(ZONA LESTE)</td>\n",
       "      <td>S.PAULO</td>\n",
       "      <td>-23.550116</td>\n",
       "      <td>-46.399410</td>\n",
       "      <td>Via Pública</td>\n",
       "      <td>DELEGACIA ELETRONICA</td>\n",
       "      <td>AUTOMOVEL</td>\n",
       "    </tr>\n",
       "    <tr>\n",
       "      <th>2</th>\n",
       "      <td>2020</td>\n",
       "      <td>2</td>\n",
       "      <td>2019-12-31</td>\n",
       "      <td>22:00:00</td>\n",
       "      <td>A NOITE</td>\n",
       "      <td>Não</td>\n",
       "      <td>RUA FRANZ VONACH</td>\n",
       "      <td>JACANA</td>\n",
       "      <td>S.PAULO</td>\n",
       "      <td>-23.456356</td>\n",
       "      <td>-46.574186</td>\n",
       "      <td>Via Pública</td>\n",
       "      <td>DELEGACIA ELETRONICA</td>\n",
       "      <td>AUTOMOVEL</td>\n",
       "    </tr>\n",
       "    <tr>\n",
       "      <th>3</th>\n",
       "      <td>2020</td>\n",
       "      <td>5</td>\n",
       "      <td>2019-12-31</td>\n",
       "      <td>21:15:00</td>\n",
       "      <td>A NOITE</td>\n",
       "      <td>Não</td>\n",
       "      <td>RUA CRISTÓVÃO DE OLIVEIRA</td>\n",
       "      <td>JARDIM NOVE DE JULHO</td>\n",
       "      <td>S.PAULO</td>\n",
       "      <td>-23.587612</td>\n",
       "      <td>-46.483828</td>\n",
       "      <td>Via Pública</td>\n",
       "      <td>DELEGACIA ELETRONICA</td>\n",
       "      <td>AUTOMOVEL</td>\n",
       "    </tr>\n",
       "    <tr>\n",
       "      <th>4</th>\n",
       "      <td>2019</td>\n",
       "      <td>1624894</td>\n",
       "      <td>2019-12-31</td>\n",
       "      <td>19:00:00</td>\n",
       "      <td>A NOITE</td>\n",
       "      <td>Não</td>\n",
       "      <td>RUA USHIKICHI KAMIYA</td>\n",
       "      <td>TREMEMBE</td>\n",
       "      <td>S.PAULO</td>\n",
       "      <td>-23.441797</td>\n",
       "      <td>-46.588894</td>\n",
       "      <td>Via Pública</td>\n",
       "      <td>DELEGACIA ELETRONICA</td>\n",
       "      <td>AUTOMOVEL</td>\n",
       "    </tr>\n",
       "  </tbody>\n",
       "</table>\n",
       "</div>"
      ],
      "text/plain": [
       "   ANO_BO   NUM_BO DATAOCORRENCIA HORAOCORRENCIA PERIDOOCORRENCIA FLAGRANTE  \\\n",
       "0    2019    10019     2019-12-31       22:30:00          A NOITE       Não   \n",
       "1    2019  1624930     2019-12-31       21:23:00          A NOITE       Não   \n",
       "2    2020        2     2019-12-31       22:00:00          A NOITE       Não   \n",
       "3    2020        5     2019-12-31       21:15:00          A NOITE       Não   \n",
       "4    2019  1624894     2019-12-31       19:00:00          A NOITE       Não   \n",
       "\n",
       "                    LOGRADOURO                        BAIRRO   CIDADE  \\\n",
       "0  AVENIDA RIACHO DOS MACHADOS                    SAO MATEUS  S.PAULO   \n",
       "1         RUA CRISTÓVÃO MENDES  JARDIM SAO PAULO(ZONA LESTE)  S.PAULO   \n",
       "2             RUA FRANZ VONACH                        JACANA  S.PAULO   \n",
       "3    RUA CRISTÓVÃO DE OLIVEIRA          JARDIM NOVE DE JULHO  S.PAULO   \n",
       "4         RUA USHIKICHI KAMIYA                      TREMEMBE  S.PAULO   \n",
       "\n",
       "    LATITUDE  LONGITUDE DESCRICAOLOCAL            DELEGACIA_NOME  \\\n",
       "0 -23.593903 -46.494643    Via pública  69º D.P. TEOTONIO VILELA   \n",
       "1 -23.550116 -46.399410    Via Pública      DELEGACIA ELETRONICA   \n",
       "2 -23.456356 -46.574186    Via Pública      DELEGACIA ELETRONICA   \n",
       "3 -23.587612 -46.483828    Via Pública      DELEGACIA ELETRONICA   \n",
       "4 -23.441797 -46.588894    Via Pública      DELEGACIA ELETRONICA   \n",
       "\n",
       "  DESCR_TIPO_VEICULO  \n",
       "0          AUTOMOVEL  \n",
       "1          AUTOMOVEL  \n",
       "2          AUTOMOVEL  \n",
       "3          AUTOMOVEL  \n",
       "4          AUTOMOVEL  "
      ]
     },
     "execution_count": 7,
     "metadata": {},
     "output_type": "execute_result"
    }
   ],
   "source": [
    "df.head()"
   ]
  },
  {
   "cell_type": "code",
   "execution_count": 8,
   "id": "4c632d4a",
   "metadata": {},
   "outputs": [
    {
     "data": {
      "text/plain": [
       "0      2022-01-26 22:30:00\n",
       "1      2022-01-26 21:23:00\n",
       "2      2022-01-26 22:00:00\n",
       "3      2022-01-26 21:15:00\n",
       "4      2022-01-26 19:00:00\n",
       "               ...        \n",
       "4272   2022-01-26 20:30:00\n",
       "4273   2022-01-26 20:55:00\n",
       "4274   2022-01-26 22:10:00\n",
       "4275   2022-01-26 22:15:00\n",
       "4276   2022-01-26 20:30:00\n",
       "Name: HORAOCORRENCIA, Length: 4277, dtype: datetime64[ns]"
      ]
     },
     "execution_count": 8,
     "metadata": {},
     "output_type": "execute_result"
    }
   ],
   "source": [
    "df['HORAOCORRENCIA'].astype('datetime64')\n"
   ]
  },
  {
   "cell_type": "code",
   "execution_count": 9,
   "id": "7b7560f7",
   "metadata": {},
   "outputs": [
    {
     "name": "stdout",
     "output_type": "stream",
     "text": [
      "<class 'pandas.core.frame.DataFrame'>\n",
      "RangeIndex: 4277 entries, 0 to 4276\n",
      "Data columns (total 14 columns):\n",
      " #   Column              Non-Null Count  Dtype         \n",
      "---  ------              --------------  -----         \n",
      " 0   ANO_BO              4277 non-null   int64         \n",
      " 1   NUM_BO              4277 non-null   int64         \n",
      " 2   DATAOCORRENCIA      4277 non-null   datetime64[ns]\n",
      " 3   HORAOCORRENCIA      4093 non-null   object        \n",
      " 4   PERIDOOCORRENCIA    4277 non-null   object        \n",
      " 5   FLAGRANTE           4277 non-null   object        \n",
      " 6   LOGRADOURO          4050 non-null   object        \n",
      " 7   BAIRRO              4270 non-null   object        \n",
      " 8   CIDADE              4274 non-null   object        \n",
      " 9   LATITUDE            3958 non-null   float64       \n",
      " 10  LONGITUDE           3958 non-null   float64       \n",
      " 11  DESCRICAOLOCAL      4277 non-null   object        \n",
      " 12  DELEGACIA_NOME      4277 non-null   object        \n",
      " 13  DESCR_TIPO_VEICULO  3219 non-null   object        \n",
      "dtypes: datetime64[ns](1), float64(2), int64(2), object(9)\n",
      "memory usage: 467.9+ KB\n"
     ]
    }
   ],
   "source": [
    "df.info()"
   ]
  },
  {
   "cell_type": "markdown",
   "id": "256d7c24",
   "metadata": {},
   "source": [
    "# Análise Exploratia dos Dados"
   ]
  },
  {
   "cell_type": "markdown",
   "id": "f4abc2b7",
   "metadata": {},
   "source": [
    "Esta parte trabalho, consiste na utilização de técnicas estatísticas para exploração de dados, bem como de técnicas de visualização de dados, com a finalidade de extrair conhecimento do dataset gerado no trabalho anterior."
   ]
  },
  {
   "cell_type": "markdown",
   "id": "7b1e1192",
   "metadata": {},
   "source": [
    "### Estimativa de parâmetro (Medida de tendência Central)\n",
    "Media  |  Mediana  |  Moda"
   ]
  },
  {
   "cell_type": "code",
   "execution_count": 10,
   "id": "097a95fc",
   "metadata": {},
   "outputs": [
    {
     "name": "stdout",
     "output_type": "stream",
     "text": [
      "Média: 10221.018704699556\n",
      "Mediana: 272.0\n",
      "Moda: 0    S.PAULO\n",
      "dtype: object\n"
     ]
    }
   ],
   "source": [
    "print(\"Média:\", df['NUM_BO'].mean())\n",
    "print(\"Mediana:\", df['NUM_BO'].median())\n",
    "print(\"Moda:\", df['CIDADE'].mode())"
   ]
  },
  {
   "cell_type": "markdown",
   "id": "1c77ab55",
   "metadata": {},
   "source": [
    "### Estimativa de variabilidade (Medida de dispersão)¶\n",
    "Variância | Desvio Padrão | Desvio absoluto médio"
   ]
  },
  {
   "cell_type": "code",
   "execution_count": 11,
   "id": "cbea35cf",
   "metadata": {},
   "outputs": [
    {
     "name": "stdout",
     "output_type": "stream",
     "text": [
      "Desvio absoluto médio: 17453.96381119464\n",
      "Variância: 2555409874.66709\n",
      "Desvio padrão: 50551.06205281043\n"
     ]
    }
   ],
   "source": [
    "print(\"Desvio absoluto médio:\", df['NUM_BO'].mad())\n",
    "print(\"Variância:\", df['NUM_BO'].var())\n",
    "print(\"Desvio padrão:\", df['NUM_BO'].std())"
   ]
  },
  {
   "cell_type": "markdown",
   "id": "c8128dd6",
   "metadata": {},
   "source": [
    "### Menor parte das ocorrencias são flagrante e não em via pública"
   ]
  },
  {
   "cell_type": "code",
   "execution_count": 17,
   "id": "3521a813",
   "metadata": {},
   "outputs": [],
   "source": [
    "flagrante = df[df[\"FLAGRANTE\"]==\"Sim\"].shape[0]\n",
    "local = df[df[\"DESCRICAOLOCAL\"]==\"Via Pública\"].shape[0]"
   ]
  },
  {
   "cell_type": "code",
   "execution_count": 16,
   "id": "6fced07a",
   "metadata": {},
   "outputs": [],
   "source": [
    "#print('Quantidade de ocorrências que é flagrante: ',df[df[\"DESCRICAOLOCAL\"]==\"Via Pública\"].shape[0])"
   ]
  },
  {
   "cell_type": "code",
   "execution_count": 18,
   "id": "b75527b9",
   "metadata": {},
   "outputs": [
    {
     "name": "stdout",
     "output_type": "stream",
     "text": [
      "Quantidade de ocorrências que é flagrante:  251\n",
      "Quantidade de ocorrências fora da via publica:  457\n"
     ]
    }
   ],
   "source": [
    "print('Quantidade de ocorrências que é flagrante: ', flagrante)\n",
    "print('Quantidade de ocorrências fora da via publica: ', local)"
   ]
  },
  {
   "cell_type": "markdown",
   "id": "a9d47941",
   "metadata": {},
   "source": [
    "### Tabela de frequência e histograma"
   ]
  },
  {
   "cell_type": "code",
   "execution_count": 21,
   "id": "29601c19",
   "metadata": {},
   "outputs": [],
   "source": [
    "import matplotlib.pyplot as plt"
   ]
  },
  {
   "cell_type": "code",
   "execution_count": 20,
   "id": "47e7eb8a",
   "metadata": {},
   "outputs": [
    {
     "data": {
      "text/html": [
       "<div>\n",
       "<style scoped>\n",
       "    .dataframe tbody tr th:only-of-type {\n",
       "        vertical-align: middle;\n",
       "    }\n",
       "\n",
       "    .dataframe tbody tr th {\n",
       "        vertical-align: top;\n",
       "    }\n",
       "\n",
       "    .dataframe thead th {\n",
       "        text-align: right;\n",
       "    }\n",
       "</style>\n",
       "<table border=\"1\" class=\"dataframe\">\n",
       "  <thead>\n",
       "    <tr style=\"text-align: right;\">\n",
       "      <th></th>\n",
       "      <th>ANO_BO</th>\n",
       "      <th>NUM_BO</th>\n",
       "      <th>DATAOCORRENCIA</th>\n",
       "      <th>HORAOCORRENCIA</th>\n",
       "      <th>PERIDOOCORRENCIA</th>\n",
       "      <th>FLAGRANTE</th>\n",
       "      <th>LOGRADOURO</th>\n",
       "      <th>BAIRRO</th>\n",
       "      <th>CIDADE</th>\n",
       "      <th>LATITUDE</th>\n",
       "      <th>LONGITUDE</th>\n",
       "      <th>DESCRICAOLOCAL</th>\n",
       "      <th>DELEGACIA_NOME</th>\n",
       "      <th>DESCR_TIPO_VEICULO</th>\n",
       "    </tr>\n",
       "  </thead>\n",
       "  <tbody>\n",
       "    <tr>\n",
       "      <th>0</th>\n",
       "      <td>2019</td>\n",
       "      <td>10019</td>\n",
       "      <td>2019-12-31</td>\n",
       "      <td>22:30:00</td>\n",
       "      <td>A NOITE</td>\n",
       "      <td>Não</td>\n",
       "      <td>AVENIDA RIACHO DOS MACHADOS</td>\n",
       "      <td>SAO MATEUS</td>\n",
       "      <td>S.PAULO</td>\n",
       "      <td>-23.593903</td>\n",
       "      <td>-46.494643</td>\n",
       "      <td>Via pública</td>\n",
       "      <td>69º D.P. TEOTONIO VILELA</td>\n",
       "      <td>AUTOMOVEL</td>\n",
       "    </tr>\n",
       "    <tr>\n",
       "      <th>1</th>\n",
       "      <td>2019</td>\n",
       "      <td>1624930</td>\n",
       "      <td>2019-12-31</td>\n",
       "      <td>21:23:00</td>\n",
       "      <td>A NOITE</td>\n",
       "      <td>Não</td>\n",
       "      <td>RUA CRISTÓVÃO MENDES</td>\n",
       "      <td>JARDIM SAO PAULO(ZONA LESTE)</td>\n",
       "      <td>S.PAULO</td>\n",
       "      <td>-23.550116</td>\n",
       "      <td>-46.399410</td>\n",
       "      <td>Via Pública</td>\n",
       "      <td>DELEGACIA ELETRONICA</td>\n",
       "      <td>AUTOMOVEL</td>\n",
       "    </tr>\n",
       "    <tr>\n",
       "      <th>2</th>\n",
       "      <td>2020</td>\n",
       "      <td>2</td>\n",
       "      <td>2019-12-31</td>\n",
       "      <td>22:00:00</td>\n",
       "      <td>A NOITE</td>\n",
       "      <td>Não</td>\n",
       "      <td>RUA FRANZ VONACH</td>\n",
       "      <td>JACANA</td>\n",
       "      <td>S.PAULO</td>\n",
       "      <td>-23.456356</td>\n",
       "      <td>-46.574186</td>\n",
       "      <td>Via Pública</td>\n",
       "      <td>DELEGACIA ELETRONICA</td>\n",
       "      <td>AUTOMOVEL</td>\n",
       "    </tr>\n",
       "    <tr>\n",
       "      <th>3</th>\n",
       "      <td>2020</td>\n",
       "      <td>5</td>\n",
       "      <td>2019-12-31</td>\n",
       "      <td>21:15:00</td>\n",
       "      <td>A NOITE</td>\n",
       "      <td>Não</td>\n",
       "      <td>RUA CRISTÓVÃO DE OLIVEIRA</td>\n",
       "      <td>JARDIM NOVE DE JULHO</td>\n",
       "      <td>S.PAULO</td>\n",
       "      <td>-23.587612</td>\n",
       "      <td>-46.483828</td>\n",
       "      <td>Via Pública</td>\n",
       "      <td>DELEGACIA ELETRONICA</td>\n",
       "      <td>AUTOMOVEL</td>\n",
       "    </tr>\n",
       "    <tr>\n",
       "      <th>4</th>\n",
       "      <td>2019</td>\n",
       "      <td>1624894</td>\n",
       "      <td>2019-12-31</td>\n",
       "      <td>19:00:00</td>\n",
       "      <td>A NOITE</td>\n",
       "      <td>Não</td>\n",
       "      <td>RUA USHIKICHI KAMIYA</td>\n",
       "      <td>TREMEMBE</td>\n",
       "      <td>S.PAULO</td>\n",
       "      <td>-23.441797</td>\n",
       "      <td>-46.588894</td>\n",
       "      <td>Via Pública</td>\n",
       "      <td>DELEGACIA ELETRONICA</td>\n",
       "      <td>AUTOMOVEL</td>\n",
       "    </tr>\n",
       "  </tbody>\n",
       "</table>\n",
       "</div>"
      ],
      "text/plain": [
       "   ANO_BO   NUM_BO DATAOCORRENCIA HORAOCORRENCIA PERIDOOCORRENCIA FLAGRANTE  \\\n",
       "0    2019    10019     2019-12-31       22:30:00          A NOITE       Não   \n",
       "1    2019  1624930     2019-12-31       21:23:00          A NOITE       Não   \n",
       "2    2020        2     2019-12-31       22:00:00          A NOITE       Não   \n",
       "3    2020        5     2019-12-31       21:15:00          A NOITE       Não   \n",
       "4    2019  1624894     2019-12-31       19:00:00          A NOITE       Não   \n",
       "\n",
       "                    LOGRADOURO                        BAIRRO   CIDADE  \\\n",
       "0  AVENIDA RIACHO DOS MACHADOS                    SAO MATEUS  S.PAULO   \n",
       "1         RUA CRISTÓVÃO MENDES  JARDIM SAO PAULO(ZONA LESTE)  S.PAULO   \n",
       "2             RUA FRANZ VONACH                        JACANA  S.PAULO   \n",
       "3    RUA CRISTÓVÃO DE OLIVEIRA          JARDIM NOVE DE JULHO  S.PAULO   \n",
       "4         RUA USHIKICHI KAMIYA                      TREMEMBE  S.PAULO   \n",
       "\n",
       "    LATITUDE  LONGITUDE DESCRICAOLOCAL            DELEGACIA_NOME  \\\n",
       "0 -23.593903 -46.494643    Via pública  69º D.P. TEOTONIO VILELA   \n",
       "1 -23.550116 -46.399410    Via Pública      DELEGACIA ELETRONICA   \n",
       "2 -23.456356 -46.574186    Via Pública      DELEGACIA ELETRONICA   \n",
       "3 -23.587612 -46.483828    Via Pública      DELEGACIA ELETRONICA   \n",
       "4 -23.441797 -46.588894    Via Pública      DELEGACIA ELETRONICA   \n",
       "\n",
       "  DESCR_TIPO_VEICULO  \n",
       "0          AUTOMOVEL  \n",
       "1          AUTOMOVEL  \n",
       "2          AUTOMOVEL  \n",
       "3          AUTOMOVEL  \n",
       "4          AUTOMOVEL  "
      ]
     },
     "execution_count": 20,
     "metadata": {},
     "output_type": "execute_result"
    }
   ],
   "source": [
    "df.head()"
   ]
  },
  {
   "cell_type": "code",
   "execution_count": 28,
   "id": "2085e761",
   "metadata": {},
   "outputs": [
    {
     "data": {
      "image/png": "[encoded data removed]",
      "text/plain": [
       "<Figure size 432x288 with 1 Axes>"
      ]
     },
     "metadata": {
      "needs_background": "light"
     },
     "output_type": "display_data"
    }
   ],
   "source": [
    "df.hist(column='ANO_BO', bins=10)\n",
    "plt.show()"
   ]
  },
  {
   "cell_type": "code",
   "execution_count": null,
   "id": "85643524",
   "metadata": {},
   "outputs": [],
   "source": []
  }
 ],
 "metadata": {
  "kernelspec": {
   "display_name": "Python 3",
   "language": "python",
   "name": "python3"
  },
  "language_info": {
   "codemirror_mode": {
    "name": "ipython",
    "version": 3
   },
   "file_extension": ".py",
   "mimetype": "text/x-python",
   "name": "python",
   "nbconvert_exporter": "python",
   "pygments_lexer": "ipython3",
   "version": "3.8.8"
  }
 },
 "nbformat": 4,
 "nbformat_minor": 5
}
